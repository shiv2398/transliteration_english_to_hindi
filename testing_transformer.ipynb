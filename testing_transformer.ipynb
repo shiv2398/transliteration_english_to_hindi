{
 "cells": [
  {
   "cell_type": "code",
   "execution_count": 6,
   "metadata": {
    "execution": {
     "iopub.execute_input": "2022-11-23T19:02:27.675413Z",
     "iopub.status.busy": "2022-11-23T19:02:27.674819Z",
     "iopub.status.idle": "2022-11-23T19:02:27.687799Z",
     "shell.execute_reply": "2022-11-23T19:02:27.685838Z",
     "shell.execute_reply.started": "2022-11-23T19:02:27.675363Z"
    }
   },
   "outputs": [],
   "source": [
    "import pandas as pd\n",
    "import numpy as np\n",
    "\n",
    "from keras.models import Model, load_model\n",
    "from keras.layers import Input, LSTM, Dense, Reshape\n",
    "from keras.callbacks import EarlyStopping, ModelCheckpoint\n",
    "from keras.layers.embeddings import Embedding\n",
    "\n",
    "import tensorflow as tf\n",
    "import tensorflow.keras.backend as K\n",
    "\n",
    "import matplotlib.pyplot as plt"
   ]
  },
  {
   "cell_type": "code",
   "execution_count": 7,
   "metadata": {
    "execution": {
     "iopub.execute_input": "2022-11-23T19:02:28.603043Z",
     "iopub.status.busy": "2022-11-23T19:02:28.601706Z",
     "iopub.status.idle": "2022-11-23T19:02:28.608185Z",
     "shell.execute_reply": "2022-11-23T19:02:28.606778Z",
     "shell.execute_reply.started": "2022-11-23T19:02:28.602995Z"
    }
   },
   "outputs": [],
   "source": [
    "import pandas as pd "
   ]
  },
  {
   "cell_type": "code",
   "execution_count": 8,
   "metadata": {
    "execution": {
     "iopub.execute_input": "2022-11-23T19:02:30.553120Z",
     "iopub.status.busy": "2022-11-23T19:02:30.552592Z",
     "iopub.status.idle": "2022-11-23T19:02:33.804666Z",
     "shell.execute_reply": "2022-11-23T19:02:33.803105Z",
     "shell.execute_reply.started": "2022-11-23T19:02:30.553086Z"
    }
   },
   "outputs": [],
   "source": [
    "train_data1=pd.read_csv('../input/english-tohind/english_hindi.csv')"
   ]
  },
  {
   "cell_type": "code",
   "execution_count": 9,
   "metadata": {
    "execution": {
     "iopub.execute_input": "2022-11-23T19:02:33.807121Z",
     "iopub.status.busy": "2022-11-23T19:02:33.806698Z",
     "iopub.status.idle": "2022-11-23T19:02:36.507642Z",
     "shell.execute_reply": "2022-11-23T19:02:36.506279Z",
     "shell.execute_reply.started": "2022-11-23T19:02:33.807085Z"
    }
   },
   "outputs": [],
   "source": [
    "train_data1.to_csv('hey.csv')"
   ]
  },
  {
   "cell_type": "code",
   "execution_count": null,
   "metadata": {},
   "outputs": [],
   "source": [
    "train_data=train_data1[ :100000]"
   ]
  },
  {
   "cell_type": "code",
   "execution_count": null,
   "metadata": {},
   "outputs": [],
   "source": [
    "train_data.shape"
   ]
  },
  {
   "cell_type": "code",
   "execution_count": 11,
   "metadata": {
    "execution": {
     "iopub.execute_input": "2022-11-23T18:38:26.170315Z",
     "iopub.status.busy": "2022-11-23T18:38:26.169924Z",
     "iopub.status.idle": "2022-11-23T18:38:26.190708Z",
     "shell.execute_reply": "2022-11-23T18:38:26.189853Z",
     "shell.execute_reply.started": "2022-11-23T18:38:26.170261Z"
    }
   },
   "outputs": [
    {
     "data": {
      "text/html": [
       "<div>\n",
       "<style scoped>\n",
       "    .dataframe tbody tr th:only-of-type {\n",
       "        vertical-align: middle;\n",
       "    }\n",
       "\n",
       "    .dataframe tbody tr th {\n",
       "        vertical-align: top;\n",
       "    }\n",
       "\n",
       "    .dataframe thead th {\n",
       "        text-align: right;\n",
       "    }\n",
       "</style>\n",
       "<table border=\"1\" class=\"dataframe\">\n",
       "  <thead>\n",
       "    <tr style=\"text-align: right;\">\n",
       "      <th></th>\n",
       "      <th>JANAMDIVAS</th>\n",
       "      <th>^जन्मदिवस$</th>\n",
       "    </tr>\n",
       "  </thead>\n",
       "  <tbody>\n",
       "    <tr>\n",
       "      <th>0</th>\n",
       "      <td>RAKHA</td>\n",
       "      <td>^रक्खा$</td>\n",
       "    </tr>\n",
       "    <tr>\n",
       "      <th>1</th>\n",
       "      <td>MILIJULI</td>\n",
       "      <td>^मिलीजुली$</td>\n",
       "    </tr>\n",
       "    <tr>\n",
       "      <th>2</th>\n",
       "      <td>JAANCHON</td>\n",
       "      <td>^जांचों$</td>\n",
       "    </tr>\n",
       "    <tr>\n",
       "      <th>3</th>\n",
       "      <td>CHAMKATA</td>\n",
       "      <td>^चमकता$</td>\n",
       "    </tr>\n",
       "    <tr>\n",
       "      <th>4</th>\n",
       "      <td>KAYIYON</td>\n",
       "      <td>^कईयों$</td>\n",
       "    </tr>\n",
       "  </tbody>\n",
       "</table>\n",
       "</div>"
      ],
      "text/plain": [
       "  JANAMDIVAS  ^जन्मदिवस$\n",
       "0      RAKHA     ^रक्खा$\n",
       "1   MILIJULI  ^मिलीजुली$\n",
       "2   JAANCHON    ^जांचों$\n",
       "3   CHAMKATA     ^चमकता$\n",
       "4    KAYIYON     ^कईयों$"
      ]
     },
     "execution_count": 11,
     "metadata": {},
     "output_type": "execute_result"
    }
   ],
   "source": [
    "train_data.head()"
   ]
  },
  {
   "cell_type": "code",
   "execution_count": 12,
   "metadata": {
    "execution": {
     "iopub.execute_input": "2022-11-23T18:38:26.698752Z",
     "iopub.status.busy": "2022-11-23T18:38:26.698016Z",
     "iopub.status.idle": "2022-11-23T18:38:26.711082Z",
     "shell.execute_reply": "2022-11-23T18:38:26.710080Z",
     "shell.execute_reply.started": "2022-11-23T18:38:26.698701Z"
    }
   },
   "outputs": [],
   "source": [
    "input_words=train_data['JANAMDIVAS'].tolist()\n",
    "target_words=train_data['^जन्मदिवस$'].tolist()"
   ]
  },
  {
   "cell_type": "code",
   "execution_count": 13,
   "metadata": {
    "execution": {
     "iopub.execute_input": "2022-11-23T18:38:27.218260Z",
     "iopub.status.busy": "2022-11-23T18:38:27.217877Z",
     "iopub.status.idle": "2022-11-23T18:38:27.226089Z",
     "shell.execute_reply": "2022-11-23T18:38:27.224582Z",
     "shell.execute_reply.started": "2022-11-23T18:38:27.218225Z"
    }
   },
   "outputs": [
    {
     "name": "stdout",
     "output_type": "stream",
     "text": [
      "RAKHA\n",
      "^रक्खा$\n"
     ]
    }
   ],
   "source": [
    "print(input_words[0])\n",
    "print(target_words[0])"
   ]
  },
  {
   "cell_type": "code",
   "execution_count": 14,
   "metadata": {
    "execution": {
     "iopub.execute_input": "2022-11-23T18:38:27.795344Z",
     "iopub.status.busy": "2022-11-23T18:38:27.793853Z",
     "iopub.status.idle": "2022-11-23T18:38:27.801210Z",
     "shell.execute_reply": "2022-11-23T18:38:27.800265Z",
     "shell.execute_reply.started": "2022-11-23T18:38:27.795255Z"
    }
   },
   "outputs": [
    {
     "name": "stdout",
     "output_type": "stream",
     "text": [
      "Total number of input words 100000\n",
      "Total number of target words 100000\n"
     ]
    }
   ],
   "source": [
    "print(f\"Total number of input words {len(input_words)}\")\n",
    "print(f\"Total number of target words {len(target_words)}\")"
   ]
  },
  {
   "cell_type": "code",
   "execution_count": 15,
   "metadata": {
    "execution": {
     "iopub.execute_input": "2022-11-23T18:38:28.358869Z",
     "iopub.status.busy": "2022-11-23T18:38:28.358471Z",
     "iopub.status.idle": "2022-11-23T18:38:28.366295Z",
     "shell.execute_reply": "2022-11-23T18:38:28.364462Z",
     "shell.execute_reply.started": "2022-11-23T18:38:28.358835Z"
    }
   },
   "outputs": [],
   "source": [
    "#removing the duplicates\n",
    "def build_vocab(input_words, target_words):\n",
    "  input_vocab = set()\n",
    "  target_vocab = set()\n",
    "  for input_word, target_word in zip(input_words, target_words):\n",
    "      input_vocab.update(set(input_word))\n",
    "      target_vocab.update(set(target_word))\n",
    "  return input_vocab, target_vocab"
   ]
  },
  {
   "cell_type": "code",
   "execution_count": 16,
   "metadata": {
    "execution": {
     "iopub.execute_input": "2022-11-23T18:38:29.014986Z",
     "iopub.status.busy": "2022-11-23T18:38:29.014581Z",
     "iopub.status.idle": "2022-11-23T18:38:29.202677Z",
     "shell.execute_reply": "2022-11-23T18:38:29.201229Z",
     "shell.execute_reply.started": "2022-11-23T18:38:29.014951Z"
    }
   },
   "outputs": [],
   "source": [
    "input_vocab, target_vocab = build_vocab(input_words, target_words)"
   ]
  },
  {
   "cell_type": "code",
   "execution_count": 17,
   "metadata": {
    "execution": {
     "iopub.execute_input": "2022-11-23T18:38:29.631443Z",
     "iopub.status.busy": "2022-11-23T18:38:29.631007Z",
     "iopub.status.idle": "2022-11-23T18:38:29.636854Z",
     "shell.execute_reply": "2022-11-23T18:38:29.635971Z",
     "shell.execute_reply.started": "2022-11-23T18:38:29.631408Z"
    }
   },
   "outputs": [
    {
     "name": "stdout",
     "output_type": "stream",
     "text": [
      "{'B', 'K', 'O', 'A', 'X', 'G', 'L', 'U', 'N', 'W', 'I', 'V', 'T', 'E', 'C', 'D', 'M', 'R', 'J', 'Y', 'H', 'Q', 'Z', 'F', 'P', 'S'}\n",
      "{'ा', 'ऍ', 'ि', 'ज', 'ड', '$', 'थ', 'ऽ', 'ओ', 'उ', 'ः', 'ै', 'य', 'ॅ', 'े', 'ू', 'म', 'इ', 'झ', 'ऋ', 'ॉ', 'ु', 'च', 'घ', 'छ', 'औ', 'ध', 'श', 'ऐ', 'ो', 'क', 'ह', '़', 'ई', '^', 'ए', 'द', 'ञ', 'ऑ', 'ष', 'स', 'ृ', 'ँ', 'ण', 'न', 'ॊ', 'र', 'ौ', 'ब', 'त', 'ी', 'ङ', 'भ', 'ॠ', 'ख', 'ढ', 'ठ', 'ट', 'ं', 'ळ', 'व', 'प', 'आ', 'ग', 'ॐ', 'ल', 'फ', 'अ', 'ऊ', '्'}\n"
     ]
    }
   ],
   "source": [
    "print(input_vocab)\n",
    "print(target_vocab)"
   ]
  },
  {
   "cell_type": "code",
   "execution_count": 18,
   "metadata": {
    "execution": {
     "iopub.execute_input": "2022-11-23T18:38:30.194304Z",
     "iopub.status.busy": "2022-11-23T18:38:30.193553Z",
     "iopub.status.idle": "2022-11-23T18:38:30.200946Z",
     "shell.execute_reply": "2022-11-23T18:38:30.199584Z",
     "shell.execute_reply.started": "2022-11-23T18:38:30.194232Z"
    }
   },
   "outputs": [
    {
     "name": "stdout",
     "output_type": "stream",
     "text": [
      "Total hindi characters 26\n",
      "Total english characters 70\n"
     ]
    }
   ],
   "source": [
    "print(f\"Total hindi characters {len(input_vocab)}\")\n",
    "print(f\"Total english characters {len(target_vocab)}\")\n",
    "\n"
   ]
  },
  {
   "cell_type": "code",
   "execution_count": 19,
   "metadata": {
    "execution": {
     "iopub.execute_input": "2022-11-23T18:38:30.846125Z",
     "iopub.status.busy": "2022-11-23T18:38:30.845697Z",
     "iopub.status.idle": "2022-11-23T18:38:30.854833Z",
     "shell.execute_reply": "2022-11-23T18:38:30.854167Z",
     "shell.execute_reply.started": "2022-11-23T18:38:30.846091Z"
    }
   },
   "outputs": [],
   "source": [
    "input_vocab = sorted(list(input_vocab))\n",
    "target_vocab = sorted(list(target_vocab))\n"
   ]
  },
  {
   "cell_type": "code",
   "execution_count": 20,
   "metadata": {
    "execution": {
     "iopub.execute_input": "2022-11-23T18:38:31.434859Z",
     "iopub.status.busy": "2022-11-23T18:38:31.434310Z",
     "iopub.status.idle": "2022-11-23T18:38:31.440312Z",
     "shell.execute_reply": "2022-11-23T18:38:31.438416Z",
     "shell.execute_reply.started": "2022-11-23T18:38:31.434827Z"
    }
   },
   "outputs": [],
   "source": [
    "input_token_index = dict([(char, i) for i, char in enumerate(input_vocab)])\n",
    "target_token_index = dict([(char, i) for i, char in enumerate(target_vocab)])"
   ]
  },
  {
   "cell_type": "code",
   "execution_count": 21,
   "metadata": {
    "execution": {
     "iopub.execute_input": "2022-11-23T18:38:32.001594Z",
     "iopub.status.busy": "2022-11-23T18:38:32.001150Z",
     "iopub.status.idle": "2022-11-23T18:38:32.006761Z",
     "shell.execute_reply": "2022-11-23T18:38:32.005929Z",
     "shell.execute_reply.started": "2022-11-23T18:38:32.001555Z"
    }
   },
   "outputs": [
    {
     "name": "stdout",
     "output_type": "stream",
     "text": [
      "{'A': 0, 'B': 1, 'C': 2, 'D': 3, 'E': 4, 'F': 5, 'G': 6, 'H': 7, 'I': 8, 'J': 9, 'K': 10, 'L': 11, 'M': 12, 'N': 13, 'O': 14, 'P': 15, 'Q': 16, 'R': 17, 'S': 18, 'T': 19, 'U': 20, 'V': 21, 'W': 22, 'X': 23, 'Y': 24, 'Z': 25}\n",
      "{'$': 0, '^': 1, 'ँ': 2, 'ं': 3, 'ः': 4, 'अ': 5, 'आ': 6, 'इ': 7, 'ई': 8, 'उ': 9, 'ऊ': 10, 'ऋ': 11, 'ऍ': 12, 'ए': 13, 'ऐ': 14, 'ऑ': 15, 'ओ': 16, 'औ': 17, 'क': 18, 'ख': 19, 'ग': 20, 'घ': 21, 'ङ': 22, 'च': 23, 'छ': 24, 'ज': 25, 'झ': 26, 'ञ': 27, 'ट': 28, 'ठ': 29, 'ड': 30, 'ढ': 31, 'ण': 32, 'त': 33, 'थ': 34, 'द': 35, 'ध': 36, 'न': 37, 'प': 38, 'फ': 39, 'ब': 40, 'भ': 41, 'म': 42, 'य': 43, 'र': 44, 'ल': 45, 'ळ': 46, 'व': 47, 'श': 48, 'ष': 49, 'स': 50, 'ह': 51, '़': 52, 'ऽ': 53, 'ा': 54, 'ि': 55, 'ी': 56, 'ु': 57, 'ू': 58, 'ृ': 59, 'ॅ': 60, 'े': 61, 'ै': 62, 'ॉ': 63, 'ॊ': 64, 'ो': 65, 'ौ': 66, '्': 67, 'ॐ': 68, 'ॠ': 69}\n"
     ]
    }
   ],
   "source": [
    "print(input_token_index)\n",
    "print(target_token_index)"
   ]
  },
  {
   "cell_type": "code",
   "execution_count": 22,
   "metadata": {
    "execution": {
     "iopub.execute_input": "2022-11-23T18:38:32.582932Z",
     "iopub.status.busy": "2022-11-23T18:38:32.582264Z",
     "iopub.status.idle": "2022-11-23T18:38:32.586798Z",
     "shell.execute_reply": "2022-11-23T18:38:32.585763Z",
     "shell.execute_reply.started": "2022-11-23T18:38:32.582887Z"
    }
   },
   "outputs": [],
   "source": [
    "\n",
    "num_encoder_tokens = len(input_vocab)\n",
    "num_decoder_tokens = len(target_vocab)"
   ]
  },
  {
   "cell_type": "code",
   "execution_count": 23,
   "metadata": {
    "execution": {
     "iopub.execute_input": "2022-11-23T18:38:33.734463Z",
     "iopub.status.busy": "2022-11-23T18:38:33.734037Z",
     "iopub.status.idle": "2022-11-23T18:38:33.768554Z",
     "shell.execute_reply": "2022-11-23T18:38:33.767342Z",
     "shell.execute_reply.started": "2022-11-23T18:38:33.734426Z"
    }
   },
   "outputs": [],
   "source": [
    "max_encoder_seq_length = max([len(txt) for txt in input_words])\n",
    "max_decoder_seq_length = max([len(txt) for txt in target_words])"
   ]
  },
  {
   "cell_type": "code",
   "execution_count": 24,
   "metadata": {
    "execution": {
     "iopub.execute_input": "2022-11-23T18:38:35.015020Z",
     "iopub.status.busy": "2022-11-23T18:38:35.014530Z",
     "iopub.status.idle": "2022-11-23T18:38:35.022647Z",
     "shell.execute_reply": "2022-11-23T18:38:35.020928Z",
     "shell.execute_reply.started": "2022-11-23T18:38:35.014978Z"
    }
   },
   "outputs": [
    {
     "name": "stdout",
     "output_type": "stream",
     "text": [
      "Number of samples: 100000\n",
      "Number of unique input tokens: 26\n",
      "Number of unique output tokens: 70\n",
      "Max sequence length for inputs: 25\n",
      "Max sequence length for outputs: 30\n"
     ]
    }
   ],
   "source": [
    "print('Number of samples:', len(input_words))\n",
    "print('Number of unique input tokens:', num_encoder_tokens)\n",
    "print('Number of unique output tokens:', num_decoder_tokens)\n",
    "print('Max sequence length for inputs:', max_encoder_seq_length)\n",
    "print('Max sequence length for outputs:', max_decoder_seq_length)"
   ]
  },
  {
   "cell_type": "code",
   "execution_count": 25,
   "metadata": {
    "execution": {
     "iopub.execute_input": "2022-11-23T18:38:36.074813Z",
     "iopub.status.busy": "2022-11-23T18:38:36.074247Z",
     "iopub.status.idle": "2022-11-23T18:38:36.081452Z",
     "shell.execute_reply": "2022-11-23T18:38:36.079656Z",
     "shell.execute_reply.started": "2022-11-23T18:38:36.074773Z"
    }
   },
   "outputs": [],
   "source": [
    "encoder_input_data = np.zeros((len(input_words), max_encoder_seq_length, num_encoder_tokens), dtype='float32')\n",
    "decoder_input_data = np.zeros((len(input_words), max_decoder_seq_length, num_decoder_tokens), dtype='float32')\n",
    "decoder_target_data = np.zeros( (len(input_words), max_decoder_seq_length, num_decoder_tokens), dtype='float32')"
   ]
  },
  {
   "cell_type": "code",
   "execution_count": 26,
   "metadata": {
    "execution": {
     "iopub.execute_input": "2022-11-23T18:38:37.267549Z",
     "iopub.status.busy": "2022-11-23T18:38:37.267017Z",
     "iopub.status.idle": "2022-11-23T18:38:37.275080Z",
     "shell.execute_reply": "2022-11-23T18:38:37.273450Z",
     "shell.execute_reply.started": "2022-11-23T18:38:37.267507Z"
    }
   },
   "outputs": [
    {
     "name": "stdout",
     "output_type": "stream",
     "text": [
      "encoder input shape (100000, 25, 26)\n",
      "decoder input shape (100000, 30, 70)\n"
     ]
    }
   ],
   "source": [
    "print(f\"encoder input shape {encoder_input_data.shape}\")\n",
    "print(f\"decoder input shape {decoder_input_data.shape}\")"
   ]
  },
  {
   "cell_type": "code",
   "execution_count": 27,
   "metadata": {
    "execution": {
     "iopub.execute_input": "2022-11-23T18:38:37.927471Z",
     "iopub.status.busy": "2022-11-23T18:38:37.926996Z",
     "iopub.status.idle": "2022-11-23T18:38:37.938617Z",
     "shell.execute_reply": "2022-11-23T18:38:37.936019Z",
     "shell.execute_reply.started": "2022-11-23T18:38:37.927432Z"
    }
   },
   "outputs": [],
   "source": [
    "class Scaled_Dot_product_Attention(tf.keras.layers.Layer):\n",
    "    def __init__(self,units):\n",
    "        super().__init__(Scaled_dot_product_Attention)\n",
    "        \n",
    "        self.units=units\n",
    "        self.Wq=tf.keras.layers.Dense(self.units)\n",
    "        self.Wk=tf.keras.layers.Dense(self.units)\n",
    "        self.Wv=tf.keras.layers.Dense(256)\n",
    "        \n",
    "    def forward(self,q,v,n,k):\n",
    "        self.q=q\n",
    "        self.v=v\n",
    "        self.n=n\n",
    "        self.k=n\n",
    "        self,n=n\n",
    "        \n",
    "        q_t=tf.expand_dims(self.q,1)\n",
    "        \n",
    "        score=(self.Wq(self.q)*self.Wk(self.k))/math.sqrt(n)\n",
    "        \n",
    "        attention_wts=tf.nn.softmax(score,axis=1)\n",
    "        context_vector=(attention_wts*self.v)\n",
    "        \n",
    "        context_vector=tf.reduce_sum(context_vector,axis=1)\n",
    "        \n",
    "        return context_vector,attention_wts\n",
    "        \n",
    "        "
   ]
  },
  {
   "cell_type": "code",
   "execution_count": 28,
   "metadata": {
    "execution": {
     "iopub.execute_input": "2022-11-23T18:38:38.614327Z",
     "iopub.status.busy": "2022-11-23T18:38:38.613862Z",
     "iopub.status.idle": "2022-11-23T18:38:40.185011Z",
     "shell.execute_reply": "2022-11-23T18:38:40.182612Z",
     "shell.execute_reply.started": "2022-11-23T18:38:38.614268Z"
    }
   },
   "outputs": [],
   "source": [
    "for i, (input_text, target_text) in enumerate(zip(input_words, target_words)):\n",
    "  for t, char in enumerate(input_text):\n",
    "    encoder_input_data[i, t, input_token_index[char]] = 1.0\n",
    "  # for the rest of sentence, mark it as space\n",
    "  #encoder_input_data[i, t + 1 :, input_token_index[\" \"]] = 1.0\n",
    "\n",
    "  for t, char in enumerate(target_text):\n",
    "    # decoder_target_data is ahead of decoder_input_data by one timestep\n",
    "    decoder_input_data[i, t, target_token_index[char]] = 1.0\n",
    "    if t > 0:\n",
    "      # decoder_target_data will be ahead by one timestep\n",
    "      # and will not include the start character.\n",
    "      decoder_target_data[i, t-1, target_token_index[char]] = 1.0\n",
    "      # for the rest of sentence, mark it as space\n",
    "      #decoder_input_data[i, t + 1 :, target_token_index[\" \"]] = 1.0"
   ]
  },
  {
   "cell_type": "code",
   "execution_count": 29,
   "metadata": {
    "execution": {
     "iopub.execute_input": "2022-11-23T18:38:40.188558Z",
     "iopub.status.busy": "2022-11-23T18:38:40.188108Z",
     "iopub.status.idle": "2022-11-23T18:38:40.200425Z",
     "shell.execute_reply": "2022-11-23T18:38:40.198785Z",
     "shell.execute_reply.started": "2022-11-23T18:38:40.188519Z"
    }
   },
   "outputs": [],
   "source": [
    "import math\n",
    "class Scaled_Dot_Product_Self_Attention(tf.keras.layers.Layer):\n",
    "    #A class for Self Attention- Q,K,V dimensions\n",
    "    def __init__(self,units):\n",
    "        super(Scaled_Dot_Product_Self_Attention,self).__init__()\n",
    "        self.units=units\n",
    "        self.Wq=tf.keras.layers.Dense(self.units)\n",
    "        self.Wk=tf.keras.layers.Dense(self.units)\n",
    "        self.Wv=tf.keras.layers.Dense(256)\n",
    "        \n",
    "    def call(self,q,k,v,n):\n",
    "        self.q=q\n",
    "        self.v=v\n",
    "        self.n=n\n",
    "        self.k=k\n",
    "#         print(self.q.shape)\n",
    "        q_t=tf.expand_dims(self.q,1)\n",
    "#         self.q=tf.transpose(self.q)\n",
    "        score=(self.Wq(self.q)*self.Wk(self.k))/math.sqrt(n)\n",
    "        attention_wts=tf.nn.softmax(score,axis=1)\n",
    "#         print(attention_wts.shape)\n",
    "        context_vector=(attention_wts*self.v)\n",
    "        context_vector=tf.reduce_sum(context_vector,axis=1)\n",
    "#         print(context_vector.shape)\n",
    "        return context_vector,attention_wts"
   ]
  },
  {
   "cell_type": "code",
   "execution_count": 30,
   "metadata": {
    "execution": {
     "iopub.execute_input": "2022-11-23T18:38:40.395323Z",
     "iopub.status.busy": "2022-11-23T18:38:40.394880Z",
     "iopub.status.idle": "2022-11-23T18:38:41.043555Z",
     "shell.execute_reply": "2022-11-23T18:38:41.042170Z",
     "shell.execute_reply.started": "2022-11-23T18:38:40.395253Z"
    }
   },
   "outputs": [
    {
     "name": "stdout",
     "output_type": "stream",
     "text": [
      "(None, None, 26)\n",
      "(None, None, 26, 100)\n",
      "(None, None, 2600)\n"
     ]
    },
    {
     "name": "stderr",
     "output_type": "stream",
     "text": [
      "2022-11-23 18:38:40.473449: I tensorflow/core/common_runtime/process_util.cc:146] Creating new thread pool with default inter op setting: 2. Tune using inter_op_parallelism_threads for best performance.\n"
     ]
    }
   ],
   "source": [
    "latent_dim = 256  # Latent dimensionality of the encoding space.\n",
    "EMBEDDING_SIZE = 100\n",
    "\n",
    "# Define an input sequence and process it.\n",
    "encoder_inputs = Input(shape=(None, num_encoder_tokens))\n",
    "print(encoder_inputs.shape)\n",
    "\n",
    "# Define embedding layer\n",
    "encoder_embedding = Embedding(num_encoder_tokens, EMBEDDING_SIZE, input_length=max_encoder_seq_length)\n",
    "encoder_inputs_em = encoder_embedding(encoder_inputs)\n",
    "print(encoder_inputs_em.shape)\n",
    "\n",
    "# since embedding layer will add one more dim, we need to flatten last 2 dims\n",
    "encoder_reshape = Reshape((-1, encoder_inputs_em.shape[2] * encoder_inputs_em.shape[3]))\n",
    "encoder_inputs_re = encoder_reshape(encoder_inputs_em)\n",
    "print(encoder_inputs_re.shape)\n",
    "\n",
    "# Note that LSTM takes only 3 dims, (samples, timesteps, features)\n",
    "encoder = LSTM(latent_dim, return_state=True)\n",
    "\n",
    "encoder_outputs, state_h, state_c = encoder(encoder_inputs_re)\n",
    "# We discard `encoder_outputs` and only keep the states.\n",
    "encoder_states = [state_h, state_c]"
   ]
  },
  {
   "cell_type": "code",
   "execution_count": 31,
   "metadata": {
    "execution": {
     "iopub.execute_input": "2022-11-23T18:38:48.267239Z",
     "iopub.status.busy": "2022-11-23T18:38:48.266342Z",
     "iopub.status.idle": "2022-11-23T18:38:48.284474Z",
     "shell.execute_reply": "2022-11-23T18:38:48.283307Z",
     "shell.execute_reply.started": "2022-11-23T18:38:48.267192Z"
    }
   },
   "outputs": [
    {
     "name": "stdout",
     "output_type": "stream",
     "text": [
      "(None, None, 70)\n",
      "(None, None, 70, 256)\n"
     ]
    }
   ],
   "source": [
    "# Set up the decoder, using `encoder_states` as initial state.\n",
    "decoder_inputs = Input(shape=(None, num_decoder_tokens))\n",
    "print(decoder_inputs.shape)\n",
    "\n",
    "# Define embeddling layer\n",
    "decoder_embedding = Embedding(num_decoder_tokens, latent_dim)\n",
    "decoder_inputs_em = decoder_embedding(decoder_inputs)\n",
    "print(decoder_inputs_em.shape)\n"
   ]
  },
  {
   "cell_type": "code",
   "execution_count": 32,
   "metadata": {
    "execution": {
     "iopub.execute_input": "2022-11-23T18:38:48.722915Z",
     "iopub.status.busy": "2022-11-23T18:38:48.722209Z",
     "iopub.status.idle": "2022-11-23T18:38:48.852051Z",
     "shell.execute_reply": "2022-11-23T18:38:48.850969Z",
     "shell.execute_reply.started": "2022-11-23T18:38:48.722881Z"
    }
   },
   "outputs": [],
   "source": [
    "scaled_dot_product_attention=Scaled_Dot_Product_Self_Attention(256)\n",
    "decoder_embed_attention_h,decoder_embed_wghts_h=scaled_dot_product_attention(state_h,state_h,encoder_outputs,256)\n",
    "decoder_embed_attention_c,decoder_embed_wghts_c=scaled_dot_product_attention(state_c,state_c,encoder_outputs,256)"
   ]
  },
  {
   "cell_type": "code",
   "execution_count": 33,
   "metadata": {
    "execution": {
     "iopub.execute_input": "2022-11-23T18:38:53.308353Z",
     "iopub.status.busy": "2022-11-23T18:38:53.307911Z",
     "iopub.status.idle": "2022-11-23T18:38:53.618672Z",
     "shell.execute_reply": "2022-11-23T18:38:53.617049Z",
     "shell.execute_reply.started": "2022-11-23T18:38:53.308315Z"
    }
   },
   "outputs": [
    {
     "name": "stdout",
     "output_type": "stream",
     "text": [
      "(None, None, 17920)\n",
      "(None, None, 256)\n",
      "(None, None, 70)\n"
     ]
    }
   ],
   "source": [
    "# since embedding layer will add one more dim, we need to flatten last 2 dims\n",
    "decoder_reshape = Reshape((-1, decoder_inputs_em.shape[2] * decoder_inputs_em.shape[3]))\n",
    "decoder_inputs_re = decoder_reshape(decoder_inputs_em)\n",
    "print(decoder_inputs_re.shape)\n",
    "decoder = LSTM(latent_dim, return_sequences=True, return_state=True)\n",
    "\n",
    "decoder_outputs, _, _ = decoder(decoder_inputs_re, initial_state=[decoder_embed_wghts_h,decoder_embed_wghts_c])\n",
    "print(decoder_outputs.shape)\n",
    "\n",
    "decoder_dense = Dense(num_decoder_tokens, activation='softmax')\n",
    "decoder_outputs = decoder_dense(decoder_outputs)\n",
    "print(decoder_outputs.shape)"
   ]
  },
  {
   "cell_type": "markdown",
   "metadata": {},
   "source": [
    "### Attention"
   ]
  },
  {
   "cell_type": "code",
   "execution_count": 34,
   "metadata": {
    "execution": {
     "iopub.execute_input": "2022-11-23T18:38:57.233620Z",
     "iopub.status.busy": "2022-11-23T18:38:57.232605Z",
     "iopub.status.idle": "2022-11-23T18:38:57.245396Z",
     "shell.execute_reply": "2022-11-23T18:38:57.243431Z",
     "shell.execute_reply.started": "2022-11-23T18:38:57.233548Z"
    }
   },
   "outputs": [],
   "source": [
    "\n",
    "# Define the model that will turn\n",
    "# `encoder_input_data` & `decoder_input_data` into `decoder_target_data`\n",
    "model = Model([encoder_inputs, decoder_inputs], decoder_outputs)"
   ]
  },
  {
   "cell_type": "code",
   "execution_count": 35,
   "metadata": {
    "execution": {
     "iopub.execute_input": "2022-11-23T18:38:57.717483Z",
     "iopub.status.busy": "2022-11-23T18:38:57.716835Z",
     "iopub.status.idle": "2022-11-23T18:38:57.724581Z",
     "shell.execute_reply": "2022-11-23T18:38:57.723583Z",
     "shell.execute_reply.started": "2022-11-23T18:38:57.717446Z"
    }
   },
   "outputs": [
    {
     "name": "stdout",
     "output_type": "stream",
     "text": [
      "Model: \"model\"\n",
      "__________________________________________________________________________________________________\n",
      "Layer (type)                    Output Shape         Param #     Connected to                     \n",
      "==================================================================================================\n",
      "input_1 (InputLayer)            [(None, None, 26)]   0                                            \n",
      "__________________________________________________________________________________________________\n",
      "embedding (Embedding)           (None, None, 26, 100 2600        input_1[0][0]                    \n",
      "__________________________________________________________________________________________________\n",
      "input_2 (InputLayer)            [(None, None, 70)]   0                                            \n",
      "__________________________________________________________________________________________________\n",
      "reshape (Reshape)               (None, None, 2600)   0           embedding[0][0]                  \n",
      "__________________________________________________________________________________________________\n",
      "embedding_1 (Embedding)         (None, None, 70, 256 17920       input_2[0][0]                    \n",
      "__________________________________________________________________________________________________\n",
      "lstm (LSTM)                     [(None, 256), (None, 2925568     reshape[0][0]                    \n",
      "__________________________________________________________________________________________________\n",
      "reshape_1 (Reshape)             (None, None, 17920)  0           embedding_1[0][0]                \n",
      "__________________________________________________________________________________________________\n",
      "scaled__dot__product__self__att ((None,), (None, 256 131584      lstm[0][1]                       \n",
      "                                                                 lstm[0][1]                       \n",
      "                                                                 lstm[0][0]                       \n",
      "                                                                 lstm[0][2]                       \n",
      "                                                                 lstm[0][2]                       \n",
      "                                                                 lstm[0][0]                       \n",
      "__________________________________________________________________________________________________\n",
      "lstm_1 (LSTM)                   [(None, None, 256),  18613248    reshape_1[0][0]                  \n",
      "                                                                 scaled__dot__product__self__atten\n",
      "                                                                 scaled__dot__product__self__atten\n",
      "__________________________________________________________________________________________________\n",
      "dense_3 (Dense)                 (None, None, 70)     17990       lstm_1[0][0]                     \n",
      "==================================================================================================\n",
      "Total params: 21,708,910\n",
      "Trainable params: 21,708,910\n",
      "Non-trainable params: 0\n",
      "__________________________________________________________________________________________________\n"
     ]
    }
   ],
   "source": [
    "model.summary()"
   ]
  },
  {
   "cell_type": "code",
   "execution_count": 57,
   "metadata": {
    "execution": {
     "iopub.execute_input": "2022-11-23T09:07:54.116197Z",
     "iopub.status.busy": "2022-11-23T09:07:54.115802Z",
     "iopub.status.idle": "2022-11-23T09:07:55.630189Z",
     "shell.execute_reply": "2022-11-23T09:07:55.628930Z",
     "shell.execute_reply.started": "2022-11-23T09:07:54.116161Z"
    }
   },
   "outputs": [
    {
     "data": {
      "image/png": "[encoded data removed]",
      "text/plain": [
       "<IPython.core.display.Image object>"
      ]
     },
     "execution_count": 57,
     "metadata": {},
     "output_type": "execute_result"
    }
   ],
   "source": [
    "tf.keras.utils.plot_model(model, show_shapes=True, show_layer_names=True)"
   ]
  },
  {
   "cell_type": "code",
   "execution_count": null,
   "metadata": {},
   "outputs": [],
   "source": [
    "# Training\n",
    "batch_size = 64  # Batch size for training.\n",
    "epochs = 500  # Number of epochs to train for.\n",
    "initial_learning_rate = 0.001\n",
    "\n",
    "# Add callbacks:\n",
    "# 'EarlyStopping' to stop training when the model is not enhancing anymore\n",
    "# 'ModelCheckPoint' to always keep the model that has the best val_accuracy\n",
    "model_save_filename = \"model.h5_final\"\n",
    "with tf.device('/device:GPU:0'):\n",
    "    model.compile(\n",
    "        optimizer=tf.keras.optimizers.RMSprop(learning_rate=initial_learning_rate), \n",
    "        loss='categorical_crossentropy', \n",
    "        metrics=['accuracy'])\n",
    "\n",
    "    earlystopping_cb = EarlyStopping(\n",
    "        monitor=\"val_accuracy\",\n",
    "        mode=\"max\",\n",
    "        verbose=1,\n",
    "        patience=20, \n",
    "        restore_best_weights=True)\n",
    "\n",
    "    mdlcheckpoint_cb = ModelCheckpoint(\n",
    "        model_save_filename, \n",
    "        monitor=\"val_accuracy\", \n",
    "        mode=\"max\",\n",
    "        verbose=1,\n",
    "        save_best_only=True\n",
    "    )\n",
    "\n",
    "    decay = initial_learning_rate / epochs\n",
    "    def lr_time_based_decay(epoch, lr):\n",
    "        return lr * 1 / (1 + decay * epoch)\n",
    "    lrscheduler_cb = tf.keras.callbacks.LearningRateScheduler(lr_time_based_decay)\n",
    "\n",
    "    history = model.fit([encoder_input_data, decoder_input_data], decoder_target_data,\n",
    "              batch_size=batch_size, epochs=epochs,  validation_split=0.2, \n",
    "              callbacks=[earlystopping_cb, mdlcheckpoint_cb, lrscheduler_cb])"
   ]
  },
  {
   "cell_type": "code",
   "execution_count": 59,
   "metadata": {
    "execution": {
     "iopub.execute_input": "2022-11-23T14:13:53.963077Z",
     "iopub.status.busy": "2022-11-23T14:13:53.962667Z",
     "iopub.status.idle": "2022-11-23T14:13:53.969485Z",
     "shell.execute_reply": "2022-11-23T14:13:53.967978Z",
     "shell.execute_reply.started": "2022-11-23T14:13:53.963040Z"
    }
   },
   "outputs": [
    {
     "name": "stdout",
     "output_type": "stream",
     "text": [
      "dict_keys(['loss', 'accuracy', 'val_loss', 'val_accuracy', 'lr'])\n"
     ]
    }
   ],
   "source": [
    "# list all data in history\n",
    "print(history.history.keys())"
   ]
  },
  {
   "cell_type": "code",
   "execution_count": 60,
   "metadata": {
    "execution": {
     "iopub.execute_input": "2022-11-23T14:13:54.838588Z",
     "iopub.status.busy": "2022-11-23T14:13:54.838197Z",
     "iopub.status.idle": "2022-11-23T14:14:37.955280Z",
     "shell.execute_reply": "2022-11-23T14:14:37.954214Z",
     "shell.execute_reply.started": "2022-11-23T14:13:54.838555Z"
    }
   },
   "outputs": [
    {
     "data": {
      "image/png": "[encoded data removed]",
      "text/plain": [
       "<Figure size 432x288 with 1 Axes>"
      ]
     },
     "metadata": {
      "needs_background": "light"
     },
     "output_type": "display_data"
    }
   ],
   "source": [
    "# summarize history for accuracy\n",
    "plt.plot(history.history['accuracy'])\n",
    "plt.plot(history.history['val_accuracy'])\n",
    "plt.title('model accuracy')\n",
    "plt.ylabel('accuracy')\n",
    "plt.xlabel('epoch')\n",
    "plt.legend(['train', 'validation'], loc='upper left')\n",
    "plt.show()"
   ]
  },
  {
   "cell_type": "code",
   "execution_count": 62,
   "metadata": {
    "execution": {
     "iopub.execute_input": "2022-11-23T14:15:02.532517Z",
     "iopub.status.busy": "2022-11-23T14:15:02.532094Z",
     "iopub.status.idle": "2022-11-23T14:15:02.770111Z",
     "shell.execute_reply": "2022-11-23T14:15:02.769099Z",
     "shell.execute_reply.started": "2022-11-23T14:15:02.532482Z"
    }
   },
   "outputs": [
    {
     "data": {
      "image/png": "[encoded data removed]",
      "text/plain": [
       "<Figure size 432x288 with 1 Axes>"
      ]
     },
     "metadata": {
      "needs_background": "light"
     },
     "output_type": "display_data"
    }
   ],
   "source": [
    "# summarize history for loss\n",
    "plt.plot(history.history['loss'])\n",
    "plt.plot(history.history['val_loss'])\n",
    "plt.title('model loss')\n",
    "plt.ylabel('loss')\n",
    "plt.xlabel('epoch')\n",
    "plt.legend(['train', 'validation'], loc='upper left')\n",
    "plt.show()"
   ]
  },
  {
   "cell_type": "code",
   "execution_count": null,
   "metadata": {
    "execution": {
     "iopub.execute_input": "2022-11-23T18:39:08.572030Z",
     "iopub.status.busy": "2022-11-23T18:39:08.571564Z",
     "iopub.status.idle": "2022-11-23T18:39:08.755913Z",
     "shell.execute_reply": "2022-11-23T18:39:08.754354Z",
     "shell.execute_reply.started": "2022-11-23T18:39:08.571981Z"
    }
   },
   "outputs": [],
   "source": [
    "# Restore the model and construct the encoder and decoder.\n",
    "model = load_model(model_save_filename)\n",
    "# model = load_model(\"model_v1.h5\")"
   ]
  },
  {
   "cell_type": "code",
   "execution_count": null,
   "metadata": {},
   "outputs": [],
   "source": [
    "model"
   ]
  },
  {
   "cell_type": "code",
   "execution_count": null,
   "metadata": {
    "execution": {
     "iopub.execute_input": "2022-11-23T14:18:20.174027Z",
     "iopub.status.busy": "2022-11-23T14:18:20.172743Z",
     "iopub.status.idle": "2022-11-23T14:18:20.205739Z",
     "shell.execute_reply": "2022-11-23T14:18:20.203666Z",
     "shell.execute_reply.started": "2022-11-23T14:18:20.173985Z"
    }
   },
   "outputs": [],
   "source": [
    "# Predictions\n",
    "encoder_inputs = model.input[0]  # input_1\n",
    "encoder_outputs, state_h_enc, state_c_enc = model.layers[6].output  # lstm_1\n",
    "encoder_states = [state_h_enc, state_c_enc]\n",
    "\n",
    "encoder_model = Model(encoder_inputs, encoder_states)\n",
    "\n",
    "decoder_inputs = model.input[1]  # input_2\n",
    "decoder_inputs_em = decoder_embedding(decoder_inputs)\n",
    "\n",
    "# since embedding layer will add one more dim, we need to flatten last 2 dims\n",
    "decoder_reshape = Reshape((-1, decoder_inputs_em.shape[2] * decoder_inputs_em.shape[3]))\n",
    "decoder_inputs_re = decoder_reshape(decoder_inputs_em)\n",
    "print(decoder_inputs_re.shape)\n",
    "\n",
    "decoder_state_input_h = Input(shape=(latent_dim,))\n",
    "decoder_state_input_c = Input(shape=(latent_dim,))\n",
    "decoder_states_inputs = [decoder_state_input_h, decoder_state_input_c]\n",
    "\n",
    "decoder_lstm = model.layers[7] # lstm_2\n",
    "decoder_outputs, state_h_dec, state_c_dec = decoder_lstm(\n",
    "    decoder_inputs_re, initial_state=decoder_states_inputs\n",
    ")\n",
    "\n",
    "decoder_states = [state_h_dec, state_c_dec]\n",
    "\n",
    "decoder_dense = model.layers[-1]\n",
    "decoder_outputs = decoder_dense(decoder_outputs)\n",
    "\n",
    "decoder_model = Model(\n",
    "    [decoder_inputs] + decoder_states_inputs,\n",
    "    [decoder_outputs] + decoder_states\n",
    ")"
   ]
  },
  {
   "cell_type": "code",
   "execution_count": 48,
   "metadata": {
    "execution": {
     "iopub.execute_input": "2022-11-20T20:12:29.835068Z",
     "iopub.status.busy": "2022-11-20T20:12:29.834713Z",
     "iopub.status.idle": "2022-11-20T20:12:29.841261Z",
     "shell.execute_reply": "2022-11-20T20:12:29.840236Z",
     "shell.execute_reply.started": "2022-11-20T20:12:29.835038Z"
    }
   },
   "outputs": [],
   "source": [
    "# Reverse-lookup token index to decode sequences back to\n",
    "# something readable.\n",
    "reverse_input_char_index = dict((i, char) for char, i in input_token_index.items())\n",
    "reverse_target_char_index = dict((i, char) for char, i in target_token_index.items())"
   ]
  },
  {
   "cell_type": "code",
   "execution_count": 49,
   "metadata": {
    "execution": {
     "iopub.execute_input": "2022-11-20T20:12:31.043830Z",
     "iopub.status.busy": "2022-11-20T20:12:31.041888Z",
     "iopub.status.idle": "2022-11-20T20:12:31.367244Z",
     "shell.execute_reply": "2022-11-20T20:12:31.366112Z",
     "shell.execute_reply.started": "2022-11-20T20:12:31.043782Z"
    }
   },
   "outputs": [
    {
     "data": {
      "image/png": "[encoded data removed]",
      "text/plain": [
       "<IPython.core.display.Image object>"
      ]
     },
     "execution_count": 49,
     "metadata": {},
     "output_type": "execute_result"
    }
   ],
   "source": [
    "tf.keras.utils.plot_model(decoder_model, to_file='model_plot_dec.png', show_shapes=True, show_layer_names=True)"
   ]
  },
  {
   "cell_type": "code",
   "execution_count": 50,
   "metadata": {
    "execution": {
     "iopub.execute_input": "2022-11-20T20:12:32.798685Z",
     "iopub.status.busy": "2022-11-20T20:12:32.798276Z",
     "iopub.status.idle": "2022-11-20T20:12:32.808186Z",
     "shell.execute_reply": "2022-11-20T20:12:32.807212Z",
     "shell.execute_reply.started": "2022-11-20T20:12:32.798647Z"
    }
   },
   "outputs": [],
   "source": [
    "def predict_target(input_string):\n",
    "  # convert for encoding \n",
    "  input_data = np.zeros((1, max_encoder_seq_length, num_encoder_tokens), dtype='float32')\n",
    "  for t, char in enumerate(input_string):\n",
    "    input_data[0, t, input_token_index[char]] = 1.\n",
    "\n",
    "  # Encode the input as state vectors.\n",
    "  states_value = encoder_model(input_data)\n",
    "\n",
    "   # Generate empty target sequence of length 1.\n",
    "  target_seq = np.zeros((1, 1, num_decoder_tokens), dtype='float32')\n",
    "  # Populate the first character of target sequence with the start character.\n",
    "  target_seq[0, 0, target_token_index['^']] = 1.0\n",
    "\n",
    "  stop_condition = False\n",
    "  decoded_sentence = \"\"\n",
    "\n",
    "  while True:\n",
    "    output_tokens, d_h, d_c = decoder_model.predict([target_seq] + states_value)\n",
    "    # Sample a token\n",
    "    sampled_token_index = np.argmax(output_tokens[0, -1, :])\n",
    "    sampled_char = reverse_target_char_index[sampled_token_index]\n",
    "\n",
    "    # Exit condition: either hit max length\n",
    "    # or find stop character.\n",
    "    if sampled_char == \"$\" or len(decoded_sentence) > max_decoder_seq_length:\n",
    "      break\n",
    "      \n",
    "    decoded_sentence += sampled_char\n",
    "\n",
    "    # Update the target sequence (of length 1).\n",
    "    target_seq = np.zeros((1, 1, num_decoder_tokens))\n",
    "    target_seq[0, 0, sampled_token_index] = 1.0\n",
    "\n",
    "    # Update states\n",
    "    states_value = [d_h, d_c]\n",
    "  return decoded_sentence"
   ]
  },
  {
   "cell_type": "code",
   "execution_count": 51,
   "metadata": {
    "execution": {
     "iopub.execute_input": "2022-11-20T20:12:34.030047Z",
     "iopub.status.busy": "2022-11-20T20:12:34.029328Z",
     "iopub.status.idle": "2022-11-20T20:12:34.035572Z",
     "shell.execute_reply": "2022-11-20T20:12:34.034315Z",
     "shell.execute_reply.started": "2022-11-20T20:12:34.030007Z"
    }
   },
   "outputs": [],
   "source": [
    "input_token_index = dict([(char, i) for i, char in enumerate(input_vocab)])\n",
    "target_token_index = dict([(char, i) for i, char in enumerate(target_vocab)])"
   ]
  },
  {
   "cell_type": "code",
   "execution_count": 79,
   "metadata": {
    "execution": {
     "iopub.execute_input": "2022-11-20T20:28:14.114771Z",
     "iopub.status.busy": "2022-11-20T20:28:14.114034Z",
     "iopub.status.idle": "2022-11-20T20:28:14.120811Z",
     "shell.execute_reply": "2022-11-20T20:28:14.119729Z",
     "shell.execute_reply.started": "2022-11-20T20:28:14.114733Z"
    }
   },
   "outputs": [],
   "source": [
    "import re\n",
    "def preprocess(inp_str):\n",
    "    spaces=[]\n",
    "    for i in range(len(inp_str)):\n",
    "        if inp_str[i]==' ':\n",
    "            spaces.append(i)\n",
    "            \n",
    "    sentence = re.sub(r\"\\s+\", \"\", inp_str, flags=re.UNICODE)\n",
    "    return sentence.upper(),spaces"
   ]
  },
  {
   "cell_type": "code",
   "execution_count": 81,
   "metadata": {
    "execution": {
     "iopub.execute_input": "2022-11-20T20:28:25.102622Z",
     "iopub.status.busy": "2022-11-20T20:28:25.102237Z",
     "iopub.status.idle": "2022-11-20T20:28:25.109622Z",
     "shell.execute_reply": "2022-11-20T20:28:25.108489Z",
     "shell.execute_reply.started": "2022-11-20T20:28:25.102591Z"
    }
   },
   "outputs": [
    {
     "data": {
      "text/plain": [
       "('SAHITYAARYAHEY', [7, 12])"
      ]
     },
     "execution_count": 81,
     "metadata": {},
     "output_type": "execute_result"
    }
   ],
   "source": [
    "preprocess(\"sahitya arya hey\")"
   ]
  },
  {
   "cell_type": "code",
   "execution_count": 97,
   "metadata": {
    "execution": {
     "iopub.execute_input": "2022-11-20T20:34:08.159108Z",
     "iopub.status.busy": "2022-11-20T20:34:08.158507Z",
     "iopub.status.idle": "2022-11-20T20:34:08.509706Z",
     "shell.execute_reply": "2022-11-20T20:34:08.508507Z",
     "shell.execute_reply.started": "2022-11-20T20:34:08.159064Z"
    }
   },
   "outputs": [
    {
     "data": {
      "text/plain": [
       "'साहित्य'"
      ]
     },
     "execution_count": 97,
     "metadata": {},
     "output_type": "execute_result"
    }
   ],
   "source": [
    "\n",
    "test_input,spaces = preprocess('Sahitya')\n",
    "predicted_string = predict_target(test_input)\n",
    "predicted_string"
   ]
  },
  {
   "cell_type": "code",
   "execution_count": 92,
   "metadata": {
    "execution": {
     "iopub.execute_input": "2022-11-20T20:33:26.735120Z",
     "iopub.status.busy": "2022-11-20T20:33:26.734758Z",
     "iopub.status.idle": "2022-11-20T20:33:26.740162Z",
     "shell.execute_reply": "2022-11-20T20:33:26.738945Z",
     "shell.execute_reply.started": "2022-11-20T20:33:26.735088Z"
    }
   },
   "outputs": [],
   "source": [
    "def insert_str(string, str_to_insert, index):\n",
    "    return string[:index] + str_to_insert + string[index:]"
   ]
  },
  {
   "cell_type": "code",
   "execution_count": 93,
   "metadata": {
    "execution": {
     "iopub.execute_input": "2022-11-20T20:33:29.843088Z",
     "iopub.status.busy": "2022-11-20T20:33:29.842379Z",
     "iopub.status.idle": "2022-11-20T20:33:29.849935Z",
     "shell.execute_reply": "2022-11-20T20:33:29.848872Z",
     "shell.execute_reply.started": "2022-11-20T20:33:29.843051Z"
    }
   },
   "outputs": [
    {
     "data": {
      "text/plain": [
       "'साहित्य ार्य'"
      ]
     },
     "execution_count": 93,
     "metadata": {},
     "output_type": "execute_result"
    }
   ],
   "source": [
    "insert_str(predicted_string,' ',7)"
   ]
  },
  {
   "cell_type": "code",
   "execution_count": null,
   "metadata": {},
   "outputs": [],
   "source": []
  }
 ],
 "metadata": {
  "kernelspec": {
   "display_name": "Python 3 (ipykernel)",
   "language": "python",
   "name": "python3"
  },
  "language_info": {
   "codemirror_mode": {
    "name": "ipython",
    "version": 3
   },
   "file_extension": ".py",
   "mimetype": "text/x-python",
   "name": "python",
   "nbconvert_exporter": "python",
   "pygments_lexer": "ipython3",
   "version": "3.9.7"
  }
 },
 "nbformat": 4,
 "nbformat_minor": 4
}
