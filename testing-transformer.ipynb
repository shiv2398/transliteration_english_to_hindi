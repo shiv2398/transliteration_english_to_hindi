{
 "cells": [
  {
   "cell_type": "code",
   "execution_count": 1,
   "metadata": {
    "execution": {
     "iopub.execute_input": "2022-11-28T06:34:40.315213Z",
     "iopub.status.busy": "2022-11-28T06:34:40.314324Z",
     "iopub.status.idle": "2022-11-28T06:34:45.217905Z",
     "shell.execute_reply": "2022-11-28T06:34:45.216807Z",
     "shell.execute_reply.started": "2022-11-28T06:34:40.315164Z"
    }
   },
   "outputs": [
    {
     "name": "stderr",
     "output_type": "stream",
     "text": [
      "2022-11-29 21:48:30.728866: I tensorflow/core/platform/cpu_feature_guard.cc:193] This TensorFlow binary is optimized with oneAPI Deep Neural Network Library (oneDNN) to use the following CPU instructions in performance-critical operations:  AVX2 FMA\n",
      "To enable them in other operations, rebuild TensorFlow with the appropriate compiler flags.\n",
      "2022-11-29 21:48:30.944471: W tensorflow/compiler/xla/stream_executor/platform/default/dso_loader.cc:64] Could not load dynamic library 'libcudart.so.11.0'; dlerror: libcudart.so.11.0: cannot open shared object file: No such file or directory\n",
      "2022-11-29 21:48:30.944496: I tensorflow/compiler/xla/stream_executor/cuda/cudart_stub.cc:29] Ignore above cudart dlerror if you do not have a GPU set up on your machine.\n",
      "2022-11-29 21:48:32.221853: W tensorflow/compiler/xla/stream_executor/platform/default/dso_loader.cc:64] Could not load dynamic library 'libnvinfer.so.7'; dlerror: libnvinfer.so.7: cannot open shared object file: No such file or directory\n",
      "2022-11-29 21:48:32.221986: W tensorflow/compiler/xla/stream_executor/platform/default/dso_loader.cc:64] Could not load dynamic library 'libnvinfer_plugin.so.7'; dlerror: libnvinfer_plugin.so.7: cannot open shared object file: No such file or directory\n",
      "2022-11-29 21:48:32.221999: W tensorflow/compiler/tf2tensorrt/utils/py_utils.cc:38] TF-TRT Warning: Cannot dlopen some TensorRT libraries. If you would like to use Nvidia GPU with TensorRT, please make sure the missing libraries mentioned above are installed properly.\n"
     ]
    }
   ],
   "source": [
    "import pandas as pd\n",
    "import numpy as np\n",
    "\n",
    "from keras.models import Model, load_model\n",
    "from keras.layers import Input, LSTM, Dense, Reshape\n",
    "from keras.callbacks import EarlyStopping, ModelCheckpoint\n",
    "\n",
    "import tensorflow as tf\n",
    "\n",
    "import matplotlib.pyplot as plt"
   ]
  },
  {
   "cell_type": "code",
   "execution_count": 2,
   "metadata": {
    "execution": {
     "iopub.execute_input": "2022-11-28T06:34:45.220755Z",
     "iopub.status.busy": "2022-11-28T06:34:45.220072Z",
     "iopub.status.idle": "2022-11-28T06:34:45.229533Z",
     "shell.execute_reply": "2022-11-28T06:34:45.227581Z",
     "shell.execute_reply.started": "2022-11-28T06:34:45.220717Z"
    }
   },
   "outputs": [],
   "source": [
    "import pandas as pd"
   ]
  },
  {
   "cell_type": "code",
   "execution_count": 3,
   "metadata": {
    "execution": {
     "iopub.execute_input": "2022-11-28T06:34:45.237131Z",
     "iopub.status.busy": "2022-11-28T06:34:45.236424Z",
     "iopub.status.idle": "2022-11-28T06:34:47.430059Z",
     "shell.execute_reply": "2022-11-28T06:34:47.429110Z",
     "shell.execute_reply.started": "2022-11-28T06:34:45.237093Z"
    }
   },
   "outputs": [],
   "source": [
    "data=pd.read_csv('english_hindi.csv')"
   ]
  },
  {
   "cell_type": "code",
   "execution_count": 4,
   "metadata": {
    "execution": {
     "iopub.execute_input": "2022-11-28T06:35:07.709115Z",
     "iopub.status.busy": "2022-11-28T06:35:07.708401Z",
     "iopub.status.idle": "2022-11-28T06:35:07.714521Z",
     "shell.execute_reply": "2022-11-28T06:35:07.713445Z",
     "shell.execute_reply.started": "2022-11-28T06:35:07.709078Z"
    }
   },
   "outputs": [],
   "source": [
    "train_data=data[:20000]"
   ]
  },
  {
   "cell_type": "code",
   "execution_count": 5,
   "metadata": {
    "execution": {
     "iopub.execute_input": "2022-11-28T06:35:09.376905Z",
     "iopub.status.busy": "2022-11-28T06:35:09.375997Z",
     "iopub.status.idle": "2022-11-28T06:35:09.387382Z",
     "shell.execute_reply": "2022-11-28T06:35:09.386151Z",
     "shell.execute_reply.started": "2022-11-28T06:35:09.376860Z"
    }
   },
   "outputs": [
    {
     "data": {
      "text/html": [
       "<div>\n",
       "<style scoped>\n",
       "    .dataframe tbody tr th:only-of-type {\n",
       "        vertical-align: middle;\n",
       "    }\n",
       "\n",
       "    .dataframe tbody tr th {\n",
       "        vertical-align: top;\n",
       "    }\n",
       "\n",
       "    .dataframe thead th {\n",
       "        text-align: right;\n",
       "    }\n",
       "</style>\n",
       "<table border=\"1\" class=\"dataframe\">\n",
       "  <thead>\n",
       "    <tr style=\"text-align: right;\">\n",
       "      <th></th>\n",
       "      <th>JANAMDIVAS</th>\n",
       "      <th>^जन्मदिवस$</th>\n",
       "    </tr>\n",
       "  </thead>\n",
       "  <tbody>\n",
       "    <tr>\n",
       "      <th>0</th>\n",
       "      <td>RAKHA</td>\n",
       "      <td>^रक्खा$</td>\n",
       "    </tr>\n",
       "    <tr>\n",
       "      <th>1</th>\n",
       "      <td>MILIJULI</td>\n",
       "      <td>^मिलीजुली$</td>\n",
       "    </tr>\n",
       "    <tr>\n",
       "      <th>2</th>\n",
       "      <td>JAANCHON</td>\n",
       "      <td>^जांचों$</td>\n",
       "    </tr>\n",
       "    <tr>\n",
       "      <th>3</th>\n",
       "      <td>CHAMKATA</td>\n",
       "      <td>^चमकता$</td>\n",
       "    </tr>\n",
       "    <tr>\n",
       "      <th>4</th>\n",
       "      <td>KAYIYON</td>\n",
       "      <td>^कईयों$</td>\n",
       "    </tr>\n",
       "  </tbody>\n",
       "</table>\n",
       "</div>"
      ],
      "text/plain": [
       "  JANAMDIVAS  ^जन्मदिवस$\n",
       "0      RAKHA     ^रक्खा$\n",
       "1   MILIJULI  ^मिलीजुली$\n",
       "2   JAANCHON    ^जांचों$\n",
       "3   CHAMKATA     ^चमकता$\n",
       "4    KAYIYON     ^कईयों$"
      ]
     },
     "execution_count": 5,
     "metadata": {},
     "output_type": "execute_result"
    }
   ],
   "source": [
    "train_data.head()"
   ]
  },
  {
   "cell_type": "code",
   "execution_count": 6,
   "metadata": {
    "execution": {
     "iopub.execute_input": "2022-11-28T06:35:09.972291Z",
     "iopub.status.busy": "2022-11-28T06:35:09.971909Z",
     "iopub.status.idle": "2022-11-28T06:35:09.981300Z",
     "shell.execute_reply": "2022-11-28T06:35:09.980298Z",
     "shell.execute_reply.started": "2022-11-28T06:35:09.972256Z"
    }
   },
   "outputs": [],
   "source": [
    "input_words=train_data['JANAMDIVAS'].tolist()\n",
    "target_words=train_data['^जन्मदिवस$'].tolist()"
   ]
  },
  {
   "cell_type": "code",
   "execution_count": 7,
   "metadata": {
    "execution": {
     "iopub.execute_input": "2022-11-28T06:35:10.467995Z",
     "iopub.status.busy": "2022-11-28T06:35:10.467616Z",
     "iopub.status.idle": "2022-11-28T06:35:10.475822Z",
     "shell.execute_reply": "2022-11-28T06:35:10.474767Z",
     "shell.execute_reply.started": "2022-11-28T06:35:10.467947Z"
    }
   },
   "outputs": [
    {
     "data": {
      "text/plain": [
       "(20000, 20000)"
      ]
     },
     "execution_count": 7,
     "metadata": {},
     "output_type": "execute_result"
    }
   ],
   "source": [
    "len(input_words),len(target_words)"
   ]
  },
  {
   "cell_type": "code",
   "execution_count": 8,
   "metadata": {
    "execution": {
     "iopub.execute_input": "2022-11-28T06:35:11.052320Z",
     "iopub.status.busy": "2022-11-28T06:35:11.051963Z",
     "iopub.status.idle": "2022-11-28T06:35:11.058277Z",
     "shell.execute_reply": "2022-11-28T06:35:11.057292Z",
     "shell.execute_reply.started": "2022-11-28T06:35:11.052287Z"
    }
   },
   "outputs": [],
   "source": [
    "def build_vocab(input_words, target_words):\n",
    "  input_vocab = set()\n",
    "  target_vocab = set()\n",
    "  for input_word, target_word in zip(input_words, target_words):\n",
    "      input_vocab.update(set(input_word))\n",
    "      target_vocab.update(set(target_word))\n",
    "  return input_vocab, target_vocab"
   ]
  },
  {
   "cell_type": "code",
   "execution_count": 9,
   "metadata": {
    "execution": {
     "iopub.execute_input": "2022-11-28T06:35:11.531388Z",
     "iopub.status.busy": "2022-11-28T06:35:11.531028Z",
     "iopub.status.idle": "2022-11-28T06:35:11.737681Z",
     "shell.execute_reply": "2022-11-28T06:35:11.736680Z",
     "shell.execute_reply.started": "2022-11-28T06:35:11.531356Z"
    }
   },
   "outputs": [],
   "source": [
    "input_vocab, target_vocab = build_vocab(input_words, target_words)"
   ]
  },
  {
   "cell_type": "code",
   "execution_count": 10,
   "metadata": {
    "execution": {
     "iopub.execute_input": "2022-11-28T06:35:12.007290Z",
     "iopub.status.busy": "2022-11-28T06:35:12.006914Z",
     "iopub.status.idle": "2022-11-28T06:35:12.012636Z",
     "shell.execute_reply": "2022-11-28T06:35:12.011539Z",
     "shell.execute_reply.started": "2022-11-28T06:35:12.007258Z"
    }
   },
   "outputs": [],
   "source": [
    "input_vocab = sorted(list(input_vocab))\n",
    "target_vocab = sorted(list(target_vocab))"
   ]
  },
  {
   "cell_type": "code",
   "execution_count": 11,
   "metadata": {
    "execution": {
     "iopub.execute_input": "2022-11-28T06:35:12.783064Z",
     "iopub.status.busy": "2022-11-28T06:35:12.782699Z",
     "iopub.status.idle": "2022-11-28T06:35:12.788676Z",
     "shell.execute_reply": "2022-11-28T06:35:12.787545Z",
     "shell.execute_reply.started": "2022-11-28T06:35:12.783033Z"
    }
   },
   "outputs": [],
   "source": [
    "\n",
    "input_token_index = dict([(char, i) for i, char in enumerate(input_vocab)])\n",
    "target_token_index = dict([(char, i) for i, char in enumerate(target_vocab)])"
   ]
  },
  {
   "cell_type": "code",
   "execution_count": 12,
   "metadata": {
    "execution": {
     "iopub.execute_input": "2022-11-28T06:35:13.487038Z",
     "iopub.status.busy": "2022-11-28T06:35:13.486347Z",
     "iopub.status.idle": "2022-11-28T06:35:13.492333Z",
     "shell.execute_reply": "2022-11-28T06:35:13.491352Z",
     "shell.execute_reply.started": "2022-11-28T06:35:13.487000Z"
    }
   },
   "outputs": [],
   "source": [
    "num_encoder_tokens = len(input_vocab)\n",
    "num_decoder_tokens = len(target_vocab)"
   ]
  },
  {
   "cell_type": "code",
   "execution_count": 13,
   "metadata": {
    "execution": {
     "iopub.execute_input": "2022-11-28T06:35:14.587150Z",
     "iopub.status.busy": "2022-11-28T06:35:14.586781Z",
     "iopub.status.idle": "2022-11-28T06:35:14.623168Z",
     "shell.execute_reply": "2022-11-28T06:35:14.622264Z",
     "shell.execute_reply.started": "2022-11-28T06:35:14.587117Z"
    }
   },
   "outputs": [],
   "source": [
    "max_encoder_seq_length = max([len(txt) for txt in input_words])\n",
    "max_decoder_seq_length = max([len(txt) for txt in target_words])"
   ]
  },
  {
   "cell_type": "code",
   "execution_count": 14,
   "metadata": {
    "execution": {
     "iopub.execute_input": "2022-11-28T06:35:15.348056Z",
     "iopub.status.busy": "2022-11-28T06:35:15.347053Z",
     "iopub.status.idle": "2022-11-28T06:35:15.359500Z",
     "shell.execute_reply": "2022-11-28T06:35:15.358582Z",
     "shell.execute_reply.started": "2022-11-28T06:35:15.348009Z"
    }
   },
   "outputs": [
    {
     "name": "stdout",
     "output_type": "stream",
     "text": [
      "Number of samples: 20000\n",
      "Number of unique input tokens: 26\n",
      "Number of unique output tokens: 63\n",
      "Max sequence length for inputs: 20\n",
      "Max sequence length for outputs: 21\n"
     ]
    }
   ],
   "source": [
    "print('Number of samples:', len(input_words))\n",
    "print('Number of unique input tokens:', num_encoder_tokens)\n",
    "print('Number of unique output tokens:', num_decoder_tokens)\n",
    "print('Max sequence length for inputs:', max_encoder_seq_length)\n",
    "print('Max sequence length for outputs:', max_decoder_seq_length)"
   ]
  },
  {
   "cell_type": "code",
   "execution_count": 15,
   "metadata": {
    "execution": {
     "iopub.execute_input": "2022-11-28T06:35:16.863086Z",
     "iopub.status.busy": "2022-11-28T06:35:16.862719Z",
     "iopub.status.idle": "2022-11-28T06:35:16.886204Z",
     "shell.execute_reply": "2022-11-28T06:35:16.885157Z",
     "shell.execute_reply.started": "2022-11-28T06:35:16.863052Z"
    }
   },
   "outputs": [],
   "source": [
    "encoder_input_data = np.zeros((len(input_words), max_encoder_seq_length, num_encoder_tokens), dtype='float32')\n",
    "decoder_input_data = np.zeros((len(input_words), max_decoder_seq_length, num_decoder_tokens), dtype='float32')\n",
    "decoder_target_data = np.zeros( (len(input_words), max_decoder_seq_length, num_decoder_tokens), dtype='float32')\n"
   ]
  },
  {
   "cell_type": "code",
   "execution_count": 16,
   "metadata": {
    "execution": {
     "iopub.execute_input": "2022-11-28T06:35:17.391783Z",
     "iopub.status.busy": "2022-11-28T06:35:17.391083Z",
     "iopub.status.idle": "2022-11-28T06:35:17.399686Z",
     "shell.execute_reply": "2022-11-28T06:35:17.398425Z",
     "shell.execute_reply.started": "2022-11-28T06:35:17.391744Z"
    }
   },
   "outputs": [
    {
     "name": "stdout",
     "output_type": "stream",
     "text": [
      "encoder input shape (20000, 20, 26)\n",
      "decoder input shape (20000, 21, 63)\n",
      "decoder target shape (20000, 21, 63)\n"
     ]
    }
   ],
   "source": [
    "print(f\"encoder input shape {encoder_input_data.shape}\")\n",
    "print(f\"decoder input shape {decoder_input_data.shape}\")\n",
    "print(f\"decoder target shape {decoder_target_data.shape}\")"
   ]
  },
  {
   "cell_type": "code",
   "execution_count": 17,
   "metadata": {
    "execution": {
     "iopub.execute_input": "2022-11-28T06:35:18.071231Z",
     "iopub.status.busy": "2022-11-28T06:35:18.070861Z",
     "iopub.status.idle": "2022-11-28T06:35:19.960707Z",
     "shell.execute_reply": "2022-11-28T06:35:19.959690Z",
     "shell.execute_reply.started": "2022-11-28T06:35:18.071199Z"
    }
   },
   "outputs": [],
   "source": [
    "for i, (input_text, target_text) in enumerate(zip(input_words, target_words)):\n",
    "  for t, char in enumerate(input_text):\n",
    "    encoder_input_data[i, t, input_token_index[char]] = 1.0\n",
    "  # for the rest of sentence, mark it as space\n",
    "  #encoder_input_data[i, t + 1 :, input_token_index[\" \"]] = 1.0\n",
    "\n",
    "  for t, char in enumerate(target_text):\n",
    "    # decoder_target_data is ahead of decoder_input_data by one timestep\n",
    "    decoder_input_data[i, t, target_token_index[char]] = 1.0\n",
    "    if t > 0:\n",
    "      # decoder_target_data will be ahead by one timestep\n",
    "      # and will not include the start character.\n",
    "      decoder_target_data[i, t-1, target_token_index[char]] = 1.0\n",
    "      # for the rest of sentence, mark it as space\n",
    "      #decoder_input_data[i, t + 1 :, target_token_index[\" \"]] = 1.0"
   ]
  },
  {
   "cell_type": "code",
   "execution_count": 18,
   "metadata": {
    "execution": {
     "iopub.execute_input": "2022-11-28T06:35:19.962950Z",
     "iopub.status.busy": "2022-11-28T06:35:19.962593Z",
     "iopub.status.idle": "2022-11-28T06:35:20.200678Z",
     "shell.execute_reply": "2022-11-28T06:35:20.199732Z",
     "shell.execute_reply.started": "2022-11-28T06:35:19.962915Z"
    }
   },
   "outputs": [
    {
     "name": "stdout",
     "output_type": "stream",
     "text": [
      "(None, None, 26)\n"
     ]
    },
    {
     "name": "stderr",
     "output_type": "stream",
     "text": [
      "2022-11-29 21:48:49.957286: W tensorflow/compiler/xla/stream_executor/platform/default/dso_loader.cc:64] Could not load dynamic library 'libcuda.so.1'; dlerror: libcuda.so.1: cannot open shared object file: No such file or directory\n",
      "2022-11-29 21:48:49.957315: W tensorflow/compiler/xla/stream_executor/cuda/cuda_driver.cc:265] failed call to cuInit: UNKNOWN ERROR (303)\n",
      "2022-11-29 21:48:49.957339: I tensorflow/compiler/xla/stream_executor/cuda/cuda_diagnostics.cc:156] kernel driver does not appear to be running on this host (sahitya-Inspiron-15-3567): /proc/driver/nvidia/version does not exist\n",
      "2022-11-29 21:48:49.957609: I tensorflow/core/platform/cpu_feature_guard.cc:193] This TensorFlow binary is optimized with oneAPI Deep Neural Network Library (oneDNN) to use the following CPU instructions in performance-critical operations:  AVX2 FMA\n",
      "To enable them in other operations, rebuild TensorFlow with the appropriate compiler flags.\n"
     ]
    },
    {
     "name": "stdout",
     "output_type": "stream",
     "text": [
      "(None, None, 26, 100)\n",
      "(None, None, 2600)\n"
     ]
    }
   ],
   "source": [
    "latent_dim = 256  # Latent dimensionality of the encoding space.\n",
    "EMBEDDING_SIZE = 100\n",
    "\n",
    "# Define an input sequence and process it.\n",
    "encoder_inputs = Input(shape=(None, num_encoder_tokens))\n",
    "print(encoder_inputs.shape)\n",
    "\n",
    "# Define embedding layer\n",
    "encoder_embedding = tf.keras.layers.Embedding(num_encoder_tokens, EMBEDDING_SIZE, input_length=max_encoder_seq_length)\n",
    "encoder_inputs_em = encoder_embedding(encoder_inputs)\n",
    "print(encoder_inputs_em.shape)\n",
    "\n",
    "# since embedding layer will add one more dim, we need to flatten last 2 dims\n",
    "encoder_reshape = Reshape((-1, encoder_inputs_em.shape[2] * encoder_inputs_em.shape[3]))\n",
    "encoder_inputs_re = encoder_reshape(encoder_inputs_em)\n",
    "print(encoder_inputs_re.shape)\n",
    "\n",
    "# Note that LSTM takes only 3 dims, (samples, timesteps, features)\n",
    "encoder = LSTM(latent_dim, return_state=True)\n",
    "\n",
    "encoder_outputs, state_h, state_c = encoder(encoder_inputs_re)\n",
    "# We discard `encoder_outputs` and only keep the states.\n",
    "encoder_states = [state_h, state_c]"
   ]
  },
  {
   "cell_type": "code",
   "execution_count": 19,
   "metadata": {
    "execution": {
     "iopub.execute_input": "2022-11-28T06:35:20.202510Z",
     "iopub.status.busy": "2022-11-28T06:35:20.202032Z",
     "iopub.status.idle": "2022-11-28T06:35:20.446580Z",
     "shell.execute_reply": "2022-11-28T06:35:20.445556Z",
     "shell.execute_reply.started": "2022-11-28T06:35:20.202445Z"
    }
   },
   "outputs": [
    {
     "name": "stdout",
     "output_type": "stream",
     "text": [
      "(None, None, 63)\n",
      "(None, None, 63, 256)\n",
      "(None, None, 16128)\n",
      "(None, None, 256)\n",
      "(None, None, 63)\n"
     ]
    }
   ],
   "source": [
    "# Set up the decoder, using `encoder_states` as initial state.\n",
    "decoder_inputs = Input(shape=(None, num_decoder_tokens))\n",
    "print(decoder_inputs.shape)\n",
    "\n",
    "# Define embeddling layer\n",
    "decoder_embedding = tf.keras.layers.Embedding(num_decoder_tokens, latent_dim)\n",
    "decoder_inputs_em = decoder_embedding(decoder_inputs)\n",
    "print(decoder_inputs_em.shape)\n",
    "\n",
    "# since embedding layer will add one more dim, we need to flatten last 2 dims\n",
    "decoder_reshape = Reshape((-1, decoder_inputs_em.shape[2] * decoder_inputs_em.shape[3]))\n",
    "decoder_inputs_re = decoder_reshape(decoder_inputs_em)\n",
    "print(decoder_inputs_re.shape)\n",
    "\n",
    "# We set up our decoder to return full output sequences,\n",
    "# and to return internal states as well. We don't use the\n",
    "# return states in the training model, but we will use them in inference.\n",
    "decoder = LSTM(latent_dim, return_sequences=True, return_state=True)\n",
    "\n",
    "decoder_outputs, _, _ = decoder(decoder_inputs_re, initial_state=encoder_states)\n",
    "print(decoder_outputs.shape)\n",
    "\n",
    "decoder_dense = Dense(num_decoder_tokens, activation='softmax')\n",
    "decoder_outputs = decoder_dense(decoder_outputs)\n",
    "print(decoder_outputs.shape)"
   ]
  },
  {
   "cell_type": "code",
   "execution_count": 20,
   "metadata": {
    "execution": {
     "iopub.execute_input": "2022-11-28T06:35:20.572598Z",
     "iopub.status.busy": "2022-11-28T06:35:20.572223Z",
     "iopub.status.idle": "2022-11-28T06:35:20.586266Z",
     "shell.execute_reply": "2022-11-28T06:35:20.585088Z",
     "shell.execute_reply.started": "2022-11-28T06:35:20.572564Z"
    }
   },
   "outputs": [
    {
     "name": "stdout",
     "output_type": "stream",
     "text": [
      "Model: \"model\"\n",
      "__________________________________________________________________________________________________\n",
      " Layer (type)                   Output Shape         Param #     Connected to                     \n",
      "==================================================================================================\n",
      " input_1 (InputLayer)           [(None, None, 26)]   0           []                               \n",
      "                                                                                                  \n",
      " input_2 (InputLayer)           [(None, None, 63)]   0           []                               \n",
      "                                                                                                  \n",
      " embedding (Embedding)          (None, None, 26, 10  2600        ['input_1[0][0]']                \n",
      "                                0)                                                                \n",
      "                                                                                                  \n",
      " embedding_1 (Embedding)        (None, None, 63, 25  16128       ['input_2[0][0]']                \n",
      "                                6)                                                                \n",
      "                                                                                                  \n",
      " reshape (Reshape)              (None, None, 2600)   0           ['embedding[0][0]']              \n",
      "                                                                                                  \n",
      " reshape_1 (Reshape)            (None, None, 16128)  0           ['embedding_1[0][0]']            \n",
      "                                                                                                  \n",
      " lstm (LSTM)                    [(None, 256),        2925568     ['reshape[0][0]']                \n",
      "                                 (None, 256),                                                     \n",
      "                                 (None, 256)]                                                     \n",
      "                                                                                                  \n",
      " lstm_1 (LSTM)                  [(None, None, 256),  16778240    ['reshape_1[0][0]',              \n",
      "                                 (None, 256),                     'lstm[0][1]',                   \n",
      "                                 (None, 256)]                     'lstm[0][2]']                   \n",
      "                                                                                                  \n",
      " dense (Dense)                  (None, None, 63)     16191       ['lstm_1[0][0]']                 \n",
      "                                                                                                  \n",
      "==================================================================================================\n",
      "Total params: 19,738,727\n",
      "Trainable params: 19,738,727\n",
      "Non-trainable params: 0\n",
      "__________________________________________________________________________________________________\n"
     ]
    }
   ],
   "source": [
    "# Define the model that will turn\n",
    "# `encoder_input_data` & `decoder_input_data` into `decoder_target_data`\n",
    "model = Model([encoder_inputs, decoder_inputs], decoder_outputs)\n",
    "model.summary()"
   ]
  },
  {
   "cell_type": "code",
   "execution_count": 21,
   "metadata": {
    "execution": {
     "iopub.execute_input": "2022-11-28T06:35:23.724391Z",
     "iopub.status.busy": "2022-11-28T06:35:23.724034Z",
     "iopub.status.idle": "2022-11-28T08:32:34.973560Z",
     "shell.execute_reply": "2022-11-28T08:32:34.972415Z",
     "shell.execute_reply.started": "2022-11-28T06:35:23.724357Z"
    }
   },
   "outputs": [
    {
     "name": "stdout",
     "output_type": "stream",
     "text": [
      "Epoch 1/10\n",
      "250/250 [==============================] - ETA: 0s - loss: 1.2661 - accuracy: 0.6843\n",
      "Epoch 1: val_accuracy improved from -inf to 0.69514, saving model to model_cpu.h5\n",
      "250/250 [==============================] - 904s 4s/step - loss: 1.2661 - accuracy: 0.6843 - val_loss: 1.2591 - val_accuracy: 0.6951 - lr: 0.0010\n",
      "Epoch 2/10\n",
      "250/250 [==============================] - ETA: 0s - loss: 1.2487 - accuracy: 0.6946\n",
      "Epoch 2: val_accuracy did not improve from 0.69514\n",
      "250/250 [==============================] - 892s 4s/step - loss: 1.2487 - accuracy: 0.6946 - val_loss: 1.2585 - val_accuracy: 0.6930 - lr: 9.9990e-04\n",
      "Epoch 3/10\n",
      "250/250 [==============================] - ETA: 0s - loss: 1.2463 - accuracy: 0.6963\n",
      "Epoch 3: val_accuracy did not improve from 0.69514\n",
      "250/250 [==============================] - 906s 4s/step - loss: 1.2463 - accuracy: 0.6963 - val_loss: 1.2582 - val_accuracy: 0.6927 - lr: 9.9970e-04\n",
      "Epoch 4/10\n",
      "250/250 [==============================] - ETA: 0s - loss: 1.2451 - accuracy: 0.6974\n",
      "Epoch 4: val_accuracy improved from 0.69514 to 0.69763, saving model to model_cpu.h5\n",
      "250/250 [==============================] - 892s 4s/step - loss: 1.2451 - accuracy: 0.6974 - val_loss: 1.2557 - val_accuracy: 0.6976 - lr: 9.9940e-04\n",
      "Epoch 5/10\n",
      "250/250 [==============================] - ETA: 0s - loss: 1.2435 - accuracy: 0.6988\n",
      "Epoch 5: val_accuracy did not improve from 0.69763\n",
      "250/250 [==============================] - 754s 3s/step - loss: 1.2435 - accuracy: 0.6988 - val_loss: 1.2587 - val_accuracy: 0.6961 - lr: 9.9900e-04\n",
      "Epoch 6/10\n",
      "250/250 [==============================] - ETA: 0s - loss: 1.2421 - accuracy: 0.7007\n",
      "Epoch 6: val_accuracy improved from 0.69763 to 0.69942, saving model to model_cpu.h5\n",
      "250/250 [==============================] - 856s 3s/step - loss: 1.2421 - accuracy: 0.7007 - val_loss: 1.2494 - val_accuracy: 0.6994 - lr: 9.9850e-04\n",
      "Epoch 7/10\n",
      "250/250 [==============================] - ETA: 0s - loss: 1.2478 - accuracy: 0.6930\n",
      "Epoch 7: val_accuracy did not improve from 0.69942\n",
      "250/250 [==============================] - 916s 4s/step - loss: 1.2478 - accuracy: 0.6930 - val_loss: 1.2514 - val_accuracy: 0.6982 - lr: 9.9790e-04\n",
      "Epoch 8/10\n",
      "250/250 [==============================] - ETA: 0s - loss: 1.2413 - accuracy: 0.7015\n",
      "Epoch 8: val_accuracy did not improve from 0.69942\n",
      "250/250 [==============================] - 758s 3s/step - loss: 1.2413 - accuracy: 0.7015 - val_loss: 1.2503 - val_accuracy: 0.6988 - lr: 9.9720e-04\n",
      "Epoch 9/10\n",
      "250/250 [==============================] - ETA: 0s - loss: 1.2375 - accuracy: 0.6998\n",
      "Epoch 9: val_accuracy improved from 0.69942 to 0.70011, saving model to model_cpu.h5\n",
      "250/250 [==============================] - 839s 3s/step - loss: 1.2375 - accuracy: 0.6998 - val_loss: 1.2440 - val_accuracy: 0.7001 - lr: 9.9641e-04\n",
      "Epoch 10/10\n",
      "250/250 [==============================] - ETA: 0s - loss: 1.2348 - accuracy: 0.6735\n",
      "Epoch 10: val_accuracy improved from 0.70011 to 0.70029, saving model to model_cpu.h5\n",
      "250/250 [==============================] - 919s 4s/step - loss: 1.2348 - accuracy: 0.6735 - val_loss: 1.2390 - val_accuracy: 0.7003 - lr: 9.9551e-04\n"
     ]
    }
   ],
   "source": [
    "\n",
    "# Training\n",
    "batch_size = 64  # Batch size for training.\n",
    "epochs = 10  # Number of epochs to train for.\n",
    "initial_learning_rate = 0.001\n",
    "\n",
    "    # Add callbacks:\n",
    "    # 'EarlyStopping' to stop training when the model is not enhancing anymore\n",
    "    # 'ModelCheckPoint' to always keep the model that has the best val_accuracy\n",
    "model_save_filename = \"model_cpu.h5\"\n",
    "\n",
    "model.compile(\n",
    "        optimizer=tf.keras.optimizers.RMSprop(learning_rate=initial_learning_rate), \n",
    "        loss='categorical_crossentropy', \n",
    "        metrics=['accuracy'])\n",
    "\n",
    "earlystopping_cb = EarlyStopping(\n",
    "        monitor=\"val_accuracy\",\n",
    "        mode=\"max\",\n",
    "        verbose=2,\n",
    "        patience=5, \n",
    "        restore_best_weights=True)\n",
    "\n",
    "mdlcheckpoint_cb = ModelCheckpoint(\n",
    "        model_save_filename, \n",
    "        monitor=\"val_accuracy\", \n",
    "        mode=\"max\",\n",
    "        verbose=1,\n",
    "        save_best_only=True\n",
    "    )\n",
    "\n",
    "decay = initial_learning_rate / epochs\n",
    "def lr_time_based_decay(epoch, lr):\n",
    "        return lr * 1 / (1 + decay * epoch)\n",
    "lrscheduler_cb = tf.keras.callbacks.LearningRateScheduler(lr_time_based_decay)\n",
    "\n",
    "\n",
    "history = model.fit([encoder_input_data, decoder_input_data], decoder_target_data,\n",
    "              batch_size=batch_size, epochs=epochs,  validation_split=0.2, \n",
    "              callbacks=[earlystopping_cb, mdlcheckpoint_cb, lrscheduler_cb])"
   ]
  },
  {
   "cell_type": "code",
   "execution_count": 22,
   "metadata": {
    "execution": {
     "iopub.execute_input": "2022-11-28T08:34:32.787563Z",
     "iopub.status.busy": "2022-11-28T08:34:32.787173Z",
     "iopub.status.idle": "2022-11-28T08:34:32.793981Z",
     "shell.execute_reply": "2022-11-28T08:34:32.792904Z",
     "shell.execute_reply.started": "2022-11-28T08:34:32.787529Z"
    }
   },
   "outputs": [
    {
     "name": "stdout",
     "output_type": "stream",
     "text": [
      "dict_keys(['loss', 'accuracy', 'val_loss', 'val_accuracy', 'lr'])\n"
     ]
    }
   ],
   "source": [
    "# list all data in histo\n",
    "print(history.history.keys())"
   ]
  },
  {
   "cell_type": "code",
   "execution_count": 23,
   "metadata": {
    "execution": {
     "iopub.execute_input": "2022-11-28T08:34:40.924347Z",
     "iopub.status.busy": "2022-11-28T08:34:40.923982Z",
     "iopub.status.idle": "2022-11-28T08:34:41.162505Z",
     "shell.execute_reply": "2022-11-28T08:34:41.161416Z",
     "shell.execute_reply.started": "2022-11-28T08:34:40.924314Z"
    }
   },
   "outputs": [
    {
     "data": {
      "image/png": "[encoded data removed]",
      "text/plain": [
       "<Figure size 432x288 with 1 Axes>"
      ]
     },
     "metadata": {
      "needs_background": "light"
     },
     "output_type": "display_data"
    }
   ],
   "source": [
    "# summarize history for accuracy\n",
    "plt.plot(history.history['accuracy'])\n",
    "plt.plot(history.history['val_accuracy'])\n",
    "plt.title('model accuracy')\n",
    "plt.ylabel('accuracy')\n",
    "plt.xlabel('epoch')\n",
    "plt.legend(['train', 'validation'], loc='upper left')\n",
    "plt.show()"
   ]
  },
  {
   "cell_type": "code",
   "execution_count": 24,
   "metadata": {
    "execution": {
     "iopub.execute_input": "2022-11-28T08:34:55.887008Z",
     "iopub.status.busy": "2022-11-28T08:34:55.886658Z",
     "iopub.status.idle": "2022-11-28T08:34:56.086871Z",
     "shell.execute_reply": "2022-11-28T08:34:56.085975Z",
     "shell.execute_reply.started": "2022-11-28T08:34:55.886978Z"
    }
   },
   "outputs": [
    {
     "data": {
      "image/png": "[encoded data removed]",
      "text/plain": [
       "<Figure size 432x288 with 1 Axes>"
      ]
     },
     "metadata": {
      "needs_background": "light"
     },
     "output_type": "display_data"
    }
   ],
   "source": [
    "# summarize history for loss\n",
    "plt.plot(history.history['loss'])\n",
    "plt.plot(history.history['val_loss'])\n",
    "plt.title('model loss')\n",
    "plt.ylabel('loss')\n",
    "plt.xlabel('epoch')\n",
    "plt.legend(['train', 'validation'], loc='upper left')\n",
    "plt.show()"
   ]
  },
  {
   "cell_type": "code",
   "execution_count": 25,
   "metadata": {
    "execution": {
     "iopub.execute_input": "2022-11-28T08:35:04.931254Z",
     "iopub.status.busy": "2022-11-28T08:35:04.930311Z",
     "iopub.status.idle": "2022-11-28T08:35:05.799256Z",
     "shell.execute_reply": "2022-11-28T08:35:05.798216Z",
     "shell.execute_reply.started": "2022-11-28T08:35:04.931216Z"
    }
   },
   "outputs": [],
   "source": [
    "# Restore the model and construct the encoder and decoder.\n",
    "model = load_model('model_cpu.h5')\n",
    "# model = load_model(\"model_v1.h5\")"
   ]
  },
  {
   "cell_type": "code",
   "execution_count": 26,
   "metadata": {
    "execution": {
     "iopub.execute_input": "2022-11-28T08:35:16.174361Z",
     "iopub.status.busy": "2022-11-28T08:35:16.174001Z",
     "iopub.status.idle": "2022-11-28T08:35:16.722886Z",
     "shell.execute_reply": "2022-11-28T08:35:16.721920Z",
     "shell.execute_reply.started": "2022-11-28T08:35:16.174328Z"
    }
   },
   "outputs": [
    {
     "name": "stdout",
     "output_type": "stream",
     "text": [
      "(None, None, 16128)\n"
     ]
    }
   ],
   "source": [
    "# Predictions\n",
    "encoder_inputs = model.input[0]  # input_1\n",
    "encoder_outputs, state_h_enc, state_c_enc = model.layers[6].output  # lstm_1\n",
    "encoder_states = [state_h_enc, state_c_enc]\n",
    "\n",
    "encoder_model = Model(encoder_inputs, encoder_states)\n",
    "\n",
    "decoder_inputs = model.input[1]  # input_2\n",
    "decoder_inputs_em = decoder_embedding(decoder_inputs)\n",
    "\n",
    "# since embedding layer will add one more dim, we need to flatten last 2 dims\n",
    "decoder_reshape = Reshape((-1, decoder_inputs_em.shape[2] * decoder_inputs_em.shape[3]))\n",
    "decoder_inputs_re = decoder_reshape(decoder_inputs_em)\n",
    "print(decoder_inputs_re.shape)\n",
    "\n",
    "decoder_state_input_h = Input(shape=(latent_dim,))\n",
    "decoder_state_input_c = Input(shape=(latent_dim,))\n",
    "decoder_states_inputs = [decoder_state_input_h, decoder_state_input_c]\n",
    "\n",
    "decoder_lstm = model.layers[7] # lstm_2\n",
    "decoder_outputs, state_h_dec, state_c_dec = decoder_lstm(\n",
    "    decoder_inputs_re, initial_state=decoder_states_inputs\n",
    ")\n",
    "\n",
    "decoder_states = [state_h_dec, state_c_dec]\n",
    "\n",
    "decoder_dense = model.layers[-1]\n",
    "decoder_outputs = decoder_dense(decoder_outputs)\n",
    "\n",
    "decoder_model = Model(\n",
    "    [decoder_inputs] + decoder_states_inputs,\n",
    "    [decoder_outputs] + decoder_states\n",
    ")"
   ]
  },
  {
   "cell_type": "code",
   "execution_count": 27,
   "metadata": {
    "execution": {
     "iopub.execute_input": "2022-11-28T08:35:24.227616Z",
     "iopub.status.busy": "2022-11-28T08:35:24.227226Z",
     "iopub.status.idle": "2022-11-28T08:35:24.233248Z",
     "shell.execute_reply": "2022-11-28T08:35:24.232285Z",
     "shell.execute_reply.started": "2022-11-28T08:35:24.227582Z"
    }
   },
   "outputs": [],
   "source": [
    "# Reverse-lookup token index to decode sequences back to\n",
    "# something readable.\n",
    "reverse_input_char_index = dict((i, char) for char, i in input_token_index.items())\n",
    "reverse_target_char_index = dict((i, char) for char, i in target_token_index.items())"
   ]
  },
  {
   "cell_type": "code",
   "execution_count": 28,
   "metadata": {
    "execution": {
     "iopub.execute_input": "2022-11-28T08:35:37.331753Z",
     "iopub.status.busy": "2022-11-28T08:35:37.331180Z",
     "iopub.status.idle": "2022-11-28T08:35:37.342839Z",
     "shell.execute_reply": "2022-11-28T08:35:37.341759Z",
     "shell.execute_reply.started": "2022-11-28T08:35:37.331710Z"
    }
   },
   "outputs": [],
   "source": [
    "def predict_target(input_string):\n",
    "  # convert for encoding \n",
    "  input_data = np.zeros((1, max_encoder_seq_length, num_encoder_tokens), dtype='float32')\n",
    "  for t, char in enumerate(input_string):\n",
    "    input_data[0, t, input_token_index[char]] = 1.\n",
    "\n",
    "  # Encode the input as state vectors.\n",
    "  states_value = encoder_model(input_data)\n",
    "\n",
    "   # Generate empty target sequence of length 1.\n",
    "  target_seq = np.zeros((1, 1, num_decoder_tokens), dtype='float32')\n",
    "  # Populate the first character of target sequence with the start character.\n",
    "  target_seq[0, 0, target_token_index['^']] = 1.0\n",
    "\n",
    "  stop_condition = False\n",
    "  decoded_sentence = \"\"\n",
    "\n",
    "  while True:\n",
    "    output_tokens, d_h, d_c = decoder_model.predict([target_seq] + states_value)\n",
    "    # Sample a token\n",
    "    sampled_token_index = np.argmax(output_tokens[0, -1, :])\n",
    "    sampled_char = reverse_target_char_index[sampled_token_index]\n",
    "\n",
    "    # Exit condition: either hit max length\n",
    "    # or find stop character.\n",
    "    if sampled_char == \"$\" or len(decoded_sentence) > max_decoder_seq_length:\n",
    "      break\n",
    "      \n",
    "    decoded_sentence += sampled_char\n",
    "\n",
    "    # Update the target sequence (of length 1).\n",
    "    target_seq = np.zeros((1, 1, num_decoder_tokens))\n",
    "    target_seq[0, 0, sampled_token_index] = 1.0\n",
    "\n",
    "    # Update states\n",
    "    states_value = [d_h, d_c]\n",
    "  return decoded_sentence"
   ]
  },
  {
   "cell_type": "code",
   "execution_count": 33,
   "metadata": {
    "execution": {
     "iopub.execute_input": "2022-11-28T08:36:35.883444Z",
     "iopub.status.busy": "2022-11-28T08:36:35.882891Z",
     "iopub.status.idle": "2022-11-28T08:36:36.129381Z",
     "shell.execute_reply": "2022-11-28T08:36:36.128540Z",
     "shell.execute_reply.started": "2022-11-28T08:36:35.883399Z"
    }
   },
   "outputs": [
    {
     "name": "stdout",
     "output_type": "stream",
     "text": [
      "1/1 [==============================] - 0s 39ms/step\n",
      "1/1 [==============================] - 0s 31ms/step\n",
      "1/1 [==============================] - 0s 31ms/step\n",
      "1/1 [==============================] - 0s 33ms/step\n",
      "1/1 [==============================] - 0s 50ms/step\n",
      "1/1 [==============================] - 0s 42ms/step\n",
      "1/1 [==============================] - 0s 45ms/step\n"
     ]
    },
    {
     "data": {
      "text/plain": [
       "'प्र्रा'"
      ]
     },
     "execution_count": 33,
     "metadata": {},
     "output_type": "execute_result"
    }
   ],
   "source": [
    "test_input = 'X'\n",
    "predicted_string = predict_target(test_input)\n",
    "predicted_string"
   ]
  },
  {
   "cell_type": "code",
   "execution_count": null,
   "metadata": {},
   "outputs": [],
   "source": []
  }
 ],
 "metadata": {
  "kernelspec": {
   "display_name": "Python 3 (ipykernel)",
   "language": "python",
   "name": "python3"
  },
  "language_info": {
   "codemirror_mode": {
    "name": "ipython",
    "version": 3
   },
   "file_extension": ".py",
   "mimetype": "text/x-python",
   "name": "python",
   "nbconvert_exporter": "python",
   "pygments_lexer": "ipython3",
   "version": "3.9.7"
  }
 },
 "nbformat": 4,
 "nbformat_minor": 4
}
